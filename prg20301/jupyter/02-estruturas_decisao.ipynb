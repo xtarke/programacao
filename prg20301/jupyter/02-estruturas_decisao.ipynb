{
 "cells": [
  {
   "cell_type": "markdown",
   "metadata": {},
   "source": [
    "# Estruturas de decisão\n",
    "---"
   ]
  },
  {
   "cell_type": "markdown",
   "metadata": {},
   "source": [
    "Programas que vimos até agora são executos sequencialmente:\n",
    "\n",
    "![fig1](figuras/media_seq.png)\n"
   ]
  },
  {
   "cell_type": "code",
   "execution_count": 1,
   "metadata": {},
   "outputs": [
    {
     "name": "stdout",
     "output_type": "stream",
     "text": [
      "Digite nota 1: 9\n",
      "Digite nota 2: 8\n",
      "Digite nota 3: 4\n",
      "Digite nota 4: 2\n",
      "Média é: 5.75\n"
     ]
    }
   ],
   "source": [
    "# Entrada de dados\n",
    "n1 = float(input('Digite nota 1: '))\n",
    "n2 = float(input('Digite nota 2: '))\n",
    "n3 = float(input('Digite nota 3: '))\n",
    "n4 = float(input('Digite nota 4: '))\n",
    "\n",
    "# Processamento\n",
    "ma = (n1 + n2 + n3 + n4)/4\n",
    "\n",
    "# Saída de dados\n",
    "print('Média é: ' + str(ma))"
   ]
  },
  {
   "cell_type": "markdown",
   "metadata": {},
   "source": [
    "## Decisão simples\n",
    "\n",
    "Como fazemos para alterar a ordem de execução? Por exemplo, gostaríamos de tomar alguma decisão em diferentes situações, como exibir __Bom dia__ ou __Boa noite__ dependendendo da hora do dia? Isso pode ser feito através de estruturas ou instruções de decisão. Como o exemplo abaixo.\n",
    "\n",
    "![fig2](figuras/media-if-simple.png)"
   ]
  },
  {
   "cell_type": "code",
   "execution_count": 6,
   "metadata": {},
   "outputs": [
    {
     "name": "stdout",
     "output_type": "stream",
     "text": [
      "Digite nota 1: 5\n",
      "Digite nota 2: 6\n",
      "Digite nota 3: 1\n",
      "Digite nota 4: 2\n",
      "Recuperação, média é: 3.5\n"
     ]
    }
   ],
   "source": [
    "# Entrada de dados\n",
    "n1 = float(input('Digite nota 1: '))\n",
    "n2 = float(input('Digite nota 2: '))\n",
    "n3 = float(input('Digite nota 3: '))\n",
    "n4 = float(input('Digite nota 4: '))\n",
    "\n",
    "# Processamento\n",
    "ma = (n1 + n2 + n3 + n4)/4\n",
    "\n",
    "# Saída de dados condicionada\n",
    "if (ma < 6):\n",
    "    print('Em Recuperação, média é: ' + str(ma))"
   ]
  },
  {
   "cell_type": "markdown",
   "metadata": {},
   "source": [
    "## Decisão composta\n",
    "\n",
    "Podemos usar uma __estrutura composta__, para executar um código no trecho __senão__:\n",
    "\n",
    "![fig3](figuras/media-if.png)"
   ]
  },
  {
   "cell_type": "code",
   "execution_count": 7,
   "metadata": {},
   "outputs": [
    {
     "name": "stdout",
     "output_type": "stream",
     "text": [
      "Digite nota 1: 5\n",
      "Digite nota 2: 6\n",
      "Digite nota 3: 7\n",
      "Digite nota 4: 8\n",
      "Aprovado, média é: 6.5\n"
     ]
    }
   ],
   "source": [
    "# Entrada de dados\n",
    "n1 = float(input('Digite nota 1: '))\n",
    "n2 = float(input('Digite nota 2: '))\n",
    "n3 = float(input('Digite nota 3: '))\n",
    "n4 = float(input('Digite nota 4: '))\n",
    "\n",
    "# Processamento\n",
    "ma = (n1 + n2 + n3 + n4)/4\n",
    "\n",
    "# Saída de dados condicionada\n",
    "if (ma < 6):\n",
    "    print('Em Recuperação, média é: ' + str(ma))\n",
    "else:\n",
    "    print('Aprovado, média é: ' + str(ma))"
   ]
  },
  {
   "cell_type": "markdown",
   "metadata": {},
   "source": [
    "## Decisão aninhada\n",
    "\n",
    "Estruturas de decisão podem ser ainhadas, ou seja, a mensagem _Sua média foi maior que 9_ é exibida apenas quando a média for maior que 6 e maior que 9.\n",
    "\n",
    "![fig4](figuras/if-nested.png)"
   ]
  },
  {
   "cell_type": "code",
   "execution_count": 1,
   "metadata": {},
   "outputs": [
    {
     "name": "stdout",
     "output_type": "stream",
     "text": [
      "Digite nota 1: 8\n",
      "Digite nota 2: 9\n",
      "Digite nota 3: 10\n",
      "Digite nota 4: 9\n",
      "Aprovado, média é: 9.0\n"
     ]
    }
   ],
   "source": [
    "# Entrada de dados\n",
    "n1 = float(input('Digite nota 1: '))\n",
    "n2 = float(input('Digite nota 2: '))\n",
    "n3 = float(input('Digite nota 3: '))\n",
    "n4 = float(input('Digite nota 4: '))\n",
    "\n",
    "# Processamento\n",
    "ma = (n1 + n2 + n3 + n4)/4\n",
    "\n",
    "# Saída de dados condicionada\n",
    "if (ma < 6):\n",
    "    print('Em Recuperação, média é: ' + str(ma))\n",
    "else:\n",
    "    print('Aprovado, média é: ' + str(ma))\n",
    "    \n",
    "    if (ma > 9):\n",
    "        print('Sua media foi maior que 9.')"
   ]
  },
  {
   "cell_type": "markdown",
   "metadata": {},
   "source": [
    "## Comparações básicas\n",
    "\n",
    "- Comparação com operadores de maior e menor:"
   ]
  },
  {
   "cell_type": "code",
   "execution_count": 8,
   "metadata": {},
   "outputs": [
    {
     "name": "stdout",
     "output_type": "stream",
     "text": [
      "a é menor que b\n",
      "Feito!\n"
     ]
    }
   ],
   "source": [
    "# Variáveis genéricas\n",
    "a = 1\n",
    "b = 5\n",
    "\n",
    "# Comparação básica\n",
    "if a < b:\n",
    "    print(\"a é menor que b\")\n",
    "\n",
    "if a > b:\n",
    "    print(\"a é maior que b\")\n",
    "\n",
    "print(\"Feito!\")"
   ]
  },
  {
   "cell_type": "code",
   "execution_count": 9,
   "metadata": {},
   "outputs": [
    {
     "name": "stdout",
     "output_type": "stream",
     "text": [
      "a é menor ou igual a b\n"
     ]
    }
   ],
   "source": [
    "if a <= b:\n",
    "    print(\"a é menor ou igual a b\")\n",
    "\n",
    "if a >= b:\n",
    "    print(\"a é maior ou igual a b\")"
   ]
  },
  {
   "cell_type": "code",
   "execution_count": 10,
   "metadata": {},
   "outputs": [
    {
     "name": "stdout",
     "output_type": "stream",
     "text": [
      "a e b são diferentes\n"
     ]
    }
   ],
   "source": [
    "# Igualdade\n",
    "if a == b:\n",
    "    print(\"a é igual a b\")\n",
    "\n",
    "# Diferente\n",
    "if a != b:\n",
    "    print(\"a e b são diferentes\")"
   ]
  },
  {
   "cell_type": "markdown",
   "metadata": {},
   "source": [
    "## Indentação\n",
    "\n",
    "__Indentação importa__. Cada linha do __if__ que é indentada somente será executada se o teste for verdadeiro."
   ]
  },
  {
   "cell_type": "code",
   "execution_count": 12,
   "metadata": {},
   "outputs": [
    {
     "name": "stdout",
     "output_type": "stream",
     "text": [
      "Se a é um, isso é impresso.\n",
      "Isso também.\n",
      "E isso.\n",
      "Isso é sempre impresso porque não está identado, ou seja, não pertence a estrutura de decisão.\n"
     ]
    }
   ],
   "source": [
    "if a == 1:\n",
    "    print(\"Se a é um, isso é impresso.\")\n",
    "    print(\"Isso também.\")\n",
    "    print(\"E isso.\")\n",
    "\n",
    "print(\"Isso é sempre impresso porque não está identado, ou seja, não pertence a estrutura de decisão.\")"
   ]
  },
  {
   "cell_type": "code",
   "execution_count": 2,
   "metadata": {},
   "outputs": [
    {
     "ename": "IndentationError",
     "evalue": "unexpected indent (<ipython-input-2-b72e5263e892>, line 4)",
     "output_type": "error",
     "traceback": [
      "\u001b[0;36m  File \u001b[0;32m\"<ipython-input-2-b72e5263e892>\"\u001b[0;36m, line \u001b[0;32m4\u001b[0m\n\u001b[0;31m    print(\"Indentado com 4 três espaçoes. Aqui gera erro.\")\u001b[0m\n\u001b[0m    ^\u001b[0m\n\u001b[0;31mIndentationError\u001b[0m\u001b[0;31m:\u001b[0m unexpected indent\n"
     ]
    }
   ],
   "source": [
    "# Esse código não é válido\n",
    "if a == 1:\n",
    "  print(\"Indentado com 3 espaços.\")\n",
    "    print(\"Indentado com 4 três espaçoes. Aqui gera erro.\")\n",
    "   print(\"O computador vai querer que você decida.\")"
   ]
  },
  {
   "cell_type": "markdown",
   "metadata": {},
   "source": [
    "## Usando E e OU (and e or)"
   ]
  },
  {
   "cell_type": "markdown",
   "metadata": {},
   "source": [
    "Um __if__ pode verificar mais de uma condição utilizando os operadores E e OU: __and__ e __or__."
   ]
  },
  {
   "cell_type": "code",
   "execution_count": 17,
   "metadata": {},
   "outputs": [
    {
     "name": "stdout",
     "output_type": "stream",
     "text": [
      "a é menor que b e menor que c\n",
      "a é menor que b ou c ou menor que ambos\n"
     ]
    }
   ],
   "source": [
    "# Variáveis genéricas\n",
    "a = 1\n",
    "b = 5\n",
    "c = 7\n",
    "\n",
    "# And\n",
    "if a < b and a < c:\n",
    "    print(\"a é menor que b e menor que c\")\n",
    "\n",
    "# Or\n",
    "if a < b or a < c:\n",
    "    print(\"a é menor que b ou c ou menor que ambos\")"
   ]
  },
  {
   "cell_type": "markdown",
   "metadata": {},
   "source": [
    "## Comparações de texto (string)\n",
    "\n"
   ]
  },
  {
   "cell_type": "code",
   "execution_count": 20,
   "metadata": {},
   "outputs": [
    {
     "name": "stdout",
     "output_type": "stream",
     "text": [
      "Qual é o seu nome? Zeca\n",
      "Seu nome é ok.\n"
     ]
    }
   ],
   "source": [
    "nome_usuario = input(\"Qual é o seu nome? \")\n",
    "if nome_usuario == \"Juca\":\n",
    "    print(\"Você tem um nome muito legal.\")\n",
    "else:\n",
    "    print(\"Seu nome é ok.\")\n"
   ]
  },
  {
   "cell_type": "code",
   "execution_count": 22,
   "metadata": {},
   "outputs": [
    {
     "name": "stdout",
     "output_type": "stream",
     "text": [
      "Sempre verdadeiro!\n"
     ]
    }
   ],
   "source": [
    "# Este código não funciona como esperado! \n",
    "if nome_usuario == \"Juca\" or \"Zezinho\":\n",
    "    print('Sempre verdadeiro!')\n",
    "\n",
    "# Assim que funciona.\n",
    "if nome_usuario == \"Juca\" or nome_usuario == \"Zezinho\":\n",
    "    print(\"Você tem um nome muito legal.\")"
   ]
  },
  {
   "cell_type": "code",
   "execution_count": 23,
   "metadata": {},
   "outputs": [
    {
     "name": "stdout",
     "output_type": "stream",
     "text": [
      "Seu nome é ok.\n"
     ]
    }
   ],
   "source": [
    "# Letras Maiúsculas e Minúsculas são diferentes\n",
    "nome_usuario = \"juca\"\n",
    "\n",
    "if nome_usuario == \"Juca\":\n",
    "    print(\"Você tem um nome muito legal.\")\n",
    "else:\n",
    "    print(\"Seu nome é ok.\")"
   ]
  },
  {
   "cell_type": "code",
   "execution_count": 24,
   "metadata": {},
   "outputs": [
    {
     "name": "stdout",
     "output_type": "stream",
     "text": [
      "Você tem um nome muito legal.\n"
     ]
    }
   ],
   "source": [
    "# Melhor colocar tudo em minúsculo\n",
    "nome_usuario = \"Juca\"\n",
    "\n",
    "if nome_usuario.lower() == \"juca\":\n",
    "    print(\"Você tem um nome muito legal.\")\n",
    "else:\n",
    "    print(\"Seu nome é ok.\")"
   ]
  },
  {
   "cell_type": "markdown",
   "metadata": {},
   "source": [
    "# Exercícios resolvidos\n"
   ]
  },
  {
   "cell_type": "markdown",
   "metadata": {},
   "source": [
    "- Faça um programa para calcular o reajuste de um salário considerando que:\n",
    "    - Se o salário for menor que 500, o reajuste é de 15% \n",
    "    - Se for maior ou igual a 500, mas menor que 1000, o reajuste é de 10%\n",
    "    - Se for maior ou igual a 1000, é de 5%"
   ]
  },
  {
   "cell_type": "code",
   "execution_count": 11,
   "metadata": {},
   "outputs": [
    {
     "name": "stdout",
     "output_type": "stream",
     "text": [
      "Digite o salário: 400\n",
      "Seu novo salário é 460.0\n"
     ]
    }
   ],
   "source": [
    "salario = float(input('Digite o salário: '))\n",
    "novo_salario = 0.0\n",
    "\n",
    "if salario < 500:\n",
    "    novo_salario = salario + salario * 0.15\n",
    "elif (salario >= 500) and (salario < 1000):\n",
    "    novo_salario = salario + salario * 0.10\n",
    "else:\n",
    "    novo_salario = salario + salario * 0.05\n",
    "    \n",
    "print('Seu novo salário é ' + str(novo_salario))"
   ]
  },
  {
   "cell_type": "markdown",
   "metadata": {},
   "source": [
    "- Faça um programa para determinar se um número é par ou impar. Dica: _Um número é impar quando a divisão por 2 não for exata_."
   ]
  },
  {
   "cell_type": "code",
   "execution_count": 13,
   "metadata": {
    "scrolled": true
   },
   "outputs": [
    {
     "name": "stdout",
     "output_type": "stream",
     "text": [
      "Digite um número: 3\n",
      "Numero ímpar.\n"
     ]
    }
   ],
   "source": [
    "numero = int(input('Digite um número: '))\n",
    "\n",
    "if (numero % 2) == 0:          # % 2 significa o resto da divisão por 2\n",
    "    print('Numero par.')\n",
    "else:\n",
    "    print('Numero ímpar.')"
   ]
  },
  {
   "cell_type": "markdown",
   "metadata": {},
   "source": [
    "- Um caixa eletrônico realiza saques com notas de 100 reais, 50 reais, 20 reais, 10 reais e 5 reais. Escreva um programa em Python que, dado o valor do saque, imprima na tela a quantidade de notas necessárias para se realizar o saque. Considere que o saque deve ser realizado com a menor quantidade de notas possível e que o caixa possui:\n",
    "\n",
    "    - 8 notas de 100 reais\n",
    "    - 12 notas de 50 reais\n",
    "    - 9 notas de 20 reais\n",
    "    - 11 notas de 10 reais\n",
    "    - 20 notas de 5 reais\n",
    "\n",
    "Caso a quantidade de notas não seja suficiente para o valor do saque, imprima a seguinte mensagem: “O saque não pode ser efetuado”. Na  saída do programa também deve ser informado a quantidade remanescentes de notas no caixa eletrônico.  "
   ]
  },
  {
   "cell_type": "code",
   "execution_count": 25,
   "metadata": {},
   "outputs": [
    {
     "name": "stdout",
     "output_type": "stream",
     "text": [
      "Saque máximo: 1790\n",
      "Informe valor do saque: 1905\n",
      "Saque não pode ser efetuado!\n"
     ]
    }
   ],
   "source": [
    "total_notas_100 = 8\n",
    "total_notas_50 = 12\n",
    "total_notas_20 = 9\n",
    "total_notas_10 = 11\n",
    "total_notas_5 = 20\n",
    "\n",
    "# Calcula máximo valor do saque\n",
    "total_maximo = total_notas_100 * 100 + total_notas_50 * 50 + total_notas_20 * 20 + total_notas_10 * 10 + total_notas_5*5\n",
    "print('Saque máximo: ' + str(total_maximo))\n",
    "\n",
    "saque =  int(input('Informe valor do saque: '))\n",
    "\n",
    "if saque > total_maximo:\n",
    "    print('Saque não pode ser efetuado!')\n",
    "else:\n",
    "    # Devemos começar o saque pelas notas mais altas para minimizar o número de notas.\n",
    "    # Notas de 100\n",
    "    n100 = saque // 100   # Só nos interessa notas inteiras, por isso o operador //\n",
    "\n",
    "    if (n100 > total_notas_100):\n",
    "        n100 = total_notas_100\n",
    "\n",
    "    saque = saque - n100 * 100\n",
    "\n",
    "    # Notas de 50\n",
    "    n50 = saque // 50   # Só nos interessa notas inteiras, por isso o operador //\n",
    "\n",
    "    if (n50 > total_notas_50):\n",
    "        n50 = total_notas_50\n",
    "\n",
    "    saque = saque - n50 * 50\n",
    "\n",
    "    # Notas de 20\n",
    "    n20 = saque // 20   # Só nos interessa notas inteiras, por isso o operador //\n",
    "\n",
    "    if (n20 > total_notas_20):\n",
    "        n20 = total_notas_20\n",
    "\n",
    "    saque = saque - n20 * 20\n",
    "\n",
    "    # Notas de 10\n",
    "    n10 = saque // 10   # Só nos interessa notas inteiras, por isso o operador //\n",
    "\n",
    "    if (n10 > total_notas_10):\n",
    "        n10 = total_notas_10\n",
    "\n",
    "    saque = saque - n10 * 10\n",
    "\n",
    "    # Notas de 5\n",
    "    n5 = saque // 5   # Só nos interessa notas inteiras, por isso o operador //\n",
    "\n",
    "    if (n5 > total_notas_5):\n",
    "        n5 = total_notas_5\n",
    "\n",
    "    saque = saque - n5 * 5\n",
    "\n",
    "    print('Notas de 100: ' + str(n100))\n",
    "    print('Notas de 50: ' + str(n50))\n",
    "    print('Notas de 20: ' + str(n20))\n",
    "    print('Notas de 10: ' + str(n10))\n",
    "    print('Notas de 5: ' + str(n5))    "
   ]
  },
  {
   "cell_type": "markdown",
   "metadata": {},
   "source": [
    "- Elabore um programa que leia o valor de dois números inteiros e a operação aritmética desejada. Calcule, então, a resposta adequada. Utilize os símbolos da tabela a seguir para ler qual operação a operação aritmética escolhida.\n",
    "\n",
    "| Símbolo | Operação aritmética |\n",
    "|-|-|\n",
    "| + | Adição |\n",
    "| - | Subtração |\n",
    "| * | Multiplicação |\n",
    "| / | Divisão |\n"
   ]
  },
  {
   "cell_type": "code",
   "execution_count": 7,
   "metadata": {},
   "outputs": [
    {
     "name": "stdout",
     "output_type": "stream",
     "text": [
      "Digite operando a: 5\n",
      "Digite operando b: 5\n",
      "Digite operador (+ , - , * , /): /\n",
      "Resultado é: 1.0\n"
     ]
    }
   ],
   "source": [
    "#Variáveis\n",
    "num_a = 0\n",
    "num_b = 0\n",
    "operador = '+'\n",
    "resultado = 0\n",
    "\n",
    "#Entrada de dados\n",
    "num_a = int(input('Digite operando a: '))\n",
    "num_b = int(input('Digite operando b: '))\n",
    "operador = input('Digite operação (+, -, *, /): ')\n",
    "\n",
    "# Depuração\n",
    "print(num_a)\n",
    "print(num_b)\n",
    "print(operador)\n",
    "\n",
    "if (operador == '+'):\n",
    "    resultado = num_a + num_b\n",
    "elif (operador == '-'):\n",
    "    resultado = num_a - num_b \n",
    "elif (operador == '*'):\n",
    "    resultado = num_a * num_b\n",
    "elif ((operador == '/') and (num_b != 0)):\n",
    "    resultado = num_a / num_b\n",
    "else:\n",
    "    print('Operador inválido')\n",
    "    \n",
    "print('O resultado de ' + str(num_a) + ' ' + operador + ' ' + str(num_b) + ' é ' + str(resultado) + '.')"
   ]
  }
 ],
 "metadata": {
  "kernelspec": {
   "display_name": "Python 3 (ipykernel)",
   "language": "python",
   "name": "python3"
  },
  "language_info": {
   "codemirror_mode": {
    "name": "ipython",
    "version": 3
   },
   "file_extension": ".py",
   "mimetype": "text/x-python",
   "name": "python",
   "nbconvert_exporter": "python",
   "pygments_lexer": "ipython3",
   "version": "3.13.7"
  }
 },
 "nbformat": 4,
 "nbformat_minor": 2
}

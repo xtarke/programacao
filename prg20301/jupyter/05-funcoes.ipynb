{
 "cells": [
  {
   "cell_type": "markdown",
   "metadata": {},
   "source": [
    "# Funções\n",
    "\n",
    "- Funções são blocos de instruções que podem ser usados diversas vezes. Podem também ser parametrizáveis.\n",
    "\n",
    "- O uso de funções permite que o programa fique mais legível e melhor estruturado.\n",
    "\n",
    "- Uma aplicação em Python pode consistir de várias funções associadas entre si."
   ]
  },
  {
   "cell_type": "markdown",
   "metadata": {},
   "source": [
    "![fig1](figuras/funcoes.png)"
   ]
  },
  {
   "cell_type": "markdown",
   "metadata": {},
   "source": [
    "__A função que mais utilizamos é o print()__"
   ]
  },
  {
   "cell_type": "code",
   "execution_count": 5,
   "metadata": {},
   "outputs": [
    {
     "name": "stdout",
     "output_type": "stream",
     "text": [
      "Olá, sou uma função.\n",
      "Olá, sou uma função.\n",
      "Olá, sou uma função.\n"
     ]
    }
   ],
   "source": [
    "# Criação da função\n",
    "def minha_funcao():\n",
    "    print(\"Olá, sou uma função.\")\n",
    "    \n",
    "# Funções são chamadas pelo operador ``()''\n",
    "minha_funcao()\n",
    "minha_funcao()\n",
    "minha_funcao()"
   ]
  },
  {
   "cell_type": "code",
   "execution_count": 6,
   "metadata": {},
   "outputs": [
    {
     "name": "stdout",
     "output_type": "stream",
     "text": [
      "Olá, sou uma função.\n",
      "Olá, sou uma função.\n",
      "Olá, sou uma função.\n",
      "Olá, sou uma função.\n",
      "Olá, sou uma função.\n",
      "Olá, sou uma função.\n",
      "Olá, sou uma função.\n"
     ]
    }
   ],
   "source": [
    "# Criação da função\n",
    "def minha_funcao():\n",
    "    print(\"Olá, sou uma função.\")\n",
    "    \n",
    "for i in range(7):\n",
    "    minha_funcao()   "
   ]
  },
  {
   "cell_type": "markdown",
   "metadata": {},
   "source": [
    "## Parâmetros\n",
    "\n",
    "- Funções são mais interessantes quando usadas com parâmetros.\n",
    "\n",
    "- Parâmetros são especificados após o nome da função dentro dos parênteses. \n",
    "\n",
    "- O número de parâmetros é flexível."
   ]
  },
  {
   "cell_type": "code",
   "execution_count": 7,
   "metadata": {},
   "outputs": [
    {
     "name": "stdout",
     "output_type": "stream",
     "text": [
      "Eu sou de Sweden\n",
      "Eu sou de India\n",
      "Eu sou de Brazil\n"
     ]
    }
   ],
   "source": [
    "def minha_funcao(pais):\n",
    "    print(\"Eu sou de \" + pais) \n",
    "    \n",
    "    \n",
    "minha_funcao(\"Sweden\")\n",
    "minha_funcao(\"India\")\n",
    "minha_funcao(\"Brazil\") "
   ]
  },
  {
   "cell_type": "code",
   "execution_count": 9,
   "metadata": {},
   "outputs": [
    {
     "name": "stdout",
     "output_type": "stream",
     "text": [
      "Eu gosto de  apple\n",
      "Eu gosto de  banana\n",
      "Eu gosto de  cherry\n"
     ]
    }
   ],
   "source": [
    "def parametros(frase, comida):\n",
    "  for x in comida:\n",
    "    print(frase, x)\n",
    "\n",
    "frutas = [\"apple\", \"banana\", \"cherry\"]\n",
    "\n",
    "parametros('Eu gosto de ', frutas)"
   ]
  },
  {
   "cell_type": "markdown",
   "metadata": {},
   "source": [
    "## Valores de retorno \n",
    "\n",
    "- Funções podem retornar dados: instrução __return__.\n",
    "- __return__ pode retornar __qualquer__ tipo de dado."
   ]
  },
  {
   "cell_type": "code",
   "execution_count": 12,
   "metadata": {},
   "outputs": [
    {
     "name": "stdout",
     "output_type": "stream",
     "text": [
      "Média é  6.75\n"
     ]
    }
   ],
   "source": [
    "def media(lista):\n",
    "    soma = 0\n",
    "    for x in lista:\n",
    "        soma = soma + x\n",
    "    \n",
    "    return soma / len(lista)\n",
    "    \n",
    "    \n",
    "numeros = [5, 6, 7, 9]\n",
    "\n",
    "print('Média é ', media(numeros))"
   ]
  },
  {
   "cell_type": "code",
   "execution_count": 11,
   "metadata": {},
   "outputs": [
    {
     "name": "stdout",
     "output_type": "stream",
     "text": [
      "15\n",
      "25\n",
      "45\n"
     ]
    }
   ],
   "source": [
    "def quintuplo(x):\n",
    "  return 5 * x\n",
    "\n",
    "print(quintuplo(3))\n",
    "print(quintuplo(5))\n",
    "print(quintuplo(9)) "
   ]
  },
  {
   "cell_type": "markdown",
   "metadata": {},
   "source": [
    "## Exercícios\n",
    "\n",
    "(Resolvido) Construa uma função que calcule a quantidade de dígitos de determinado número inteiro.\n",
    "\n"
   ]
  },
  {
   "cell_type": "code",
   "execution_count": 3,
   "metadata": {},
   "outputs": [
    {
     "name": "stdout",
     "output_type": "stream",
     "text": [
      "Digitos:  7\n"
     ]
    }
   ],
   "source": [
    "# Definição da função\n",
    "def digitos(n):\n",
    "    # Variáveis \n",
    "    digitos = 0\n",
    "    \n",
    "    # Divide e acumula enquanto houver algum digito\n",
    "    while (n > 0):\n",
    "        # Divide por 10 \n",
    "        n = n // 10\n",
    "        digitos = digitos + 1\n",
    "    \n",
    "    return digitos\n",
    "    \n",
    "print('Digitos: ', digitos(7888854))"
   ]
  },
  {
   "cell_type": "markdown",
   "metadata": {},
   "source": [
    "(Resolvido) Elabore uma função que retorna o reverso de um número inteiro, por exemplo: 932 -> 239"
   ]
  },
  {
   "cell_type": "code",
   "execution_count": 8,
   "metadata": {},
   "outputs": [
    {
     "name": "stdout",
     "output_type": "stream",
     "text": [
      "Digitos:  4321\n"
     ]
    }
   ],
   "source": [
    "# Definição da função\n",
    "def inverter(n):\n",
    "    # Variáveis\n",
    "    invertido = 0\n",
    "    digito = 0\n",
    "    lista = []\n",
    "    \n",
    "    # Divide e acumula enquanto houver algum digito\n",
    "    while (n > 0):\n",
    "        # Obter o digito pelo resto da divisão\n",
    "        digito = n % 10        \n",
    "        \n",
    "        # Guarda em uma lista\n",
    "        lista.append(digito)\n",
    "        \n",
    "        # Preparando para o próximo digito\n",
    "        n = n // 10        \n",
    "    \n",
    "    tamanho = len(lista) - 1    \n",
    "    for i in lista:        \n",
    "        # numero invertido: lista[0] * 10^n + lista[1] * 10^(n - 1) + lista[2] * 10^n-2 ...\n",
    "        invertido = invertido + i * 10**tamanho\n",
    "        tamanho = tamanho - 1\n",
    "        \n",
    "    return invertido    \n",
    "print('Digitos: ', inverter(1234))"
   ]
  },
  {
   "cell_type": "markdown",
   "metadata": {},
   "source": [
    "1. Fazer uma função que retorne a área de um círculo. Monte um programa exemplo."
   ]
  },
  {
   "cell_type": "code",
   "execution_count": null,
   "metadata": {},
   "outputs": [],
   "source": []
  },
  {
   "cell_type": "markdown",
   "metadata": {},
   "source": [
    "2. Fazer uma função para cálculo da resistência equivalente da associação de 2 resistores (série ou paralelo) e montar um programa exemplo. A função deve receber os valores dos resistores mais um caractere que será __s__ para série e __p__ para paralelo."
   ]
  },
  {
   "cell_type": "code",
   "execution_count": null,
   "metadata": {},
   "outputs": [],
   "source": []
  },
  {
   "cell_type": "markdown",
   "metadata": {},
   "source": [
    "3. Montar um programa exemplo para pedir ao usuário os valores retornando uma lista com todos eles.Função deve ser conforme abaixo, onde n é o número de valores que devem ser solicitados.\n",
    "\n",
    "def ler_valores(n):\n"
   ]
  },
  {
   "cell_type": "code",
   "execution_count": null,
   "metadata": {},
   "outputs": [],
   "source": []
  },
  {
   "cell_type": "markdown",
   "metadata": {},
   "source": [
    "4. Faça um programa que imprima quantos dias tem um mês lido no programa principal em função de um valor recebido. Os dias de cada mês devem ser armazenados em uma lista dentro da função.\n",
    "\n",
    "Por exemplo se receber mês = 1, a função deve retornar 31 (janeiro).\n",
    "\n",
    "def dias_mes(mes):\n"
   ]
  },
  {
   "cell_type": "code",
   "execution_count": null,
   "metadata": {},
   "outputs": [],
   "source": []
  }
 ],
 "metadata": {
  "kernelspec": {
   "display_name": "Python 3 (ipykernel)",
   "language": "python",
   "name": "python3"
  },
  "language_info": {
   "codemirror_mode": {
    "name": "ipython",
    "version": 3
   },
   "file_extension": ".py",
   "mimetype": "text/x-python",
   "name": "python",
   "nbconvert_exporter": "python",
   "pygments_lexer": "ipython3",
   "version": "3.11.8"
  }
 },
 "nbformat": 4,
 "nbformat_minor": 4
}

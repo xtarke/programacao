{
 "cells": [
  {
   "cell_type": "markdown",
   "metadata": {},
   "source": [
    "# Resolução de sistemas lineares\n",
    "\n",
    "- Python pode ser utilizado para a resolução de sistemas lineares.\n",
    "- A resolução de sistemas lineares é importante para circuitos.\n",
    "- Cálculos mais avançados são implementados pela biblioteca __numpy__ (Numeric Python)."
   ]
  },
  {
   "cell_type": "code",
   "execution_count": 9,
   "metadata": {},
   "outputs": [],
   "source": [
    "# Importa numpy\n",
    "import numpy as np"
   ]
  },
  {
   "cell_type": "markdown",
   "metadata": {},
   "source": [
    "- Para resolver um sistema linear:\n",
    "\n",
    "$\\left\\{\n",
    "\\begin{array}{rcrcrc@{\\qquad}l}\n",
    " 3x & + &   y &  = 9 \\\\\n",
    " x  & + &  2y & = 8  \\\\\n",
    "\\end{array}\n",
    "\\right.$\n",
    "\n",
    "- Converte-se para a forma matricial:\n",
    "\n",
    "$$\\begin{bmatrix} 3 & 1 \\\\ 1 & 2 \\end{bmatrix} \\times \\begin{bmatrix} x \\\\ y \\end{bmatrix} = \\begin{bmatrix} 9 \\\\ 8 \\end{bmatrix}$$\n",
    "\n",
    "- Matrizes:\n",
    "\n",
    "$$A * X = C$$\n",
    "\n",
    "$$A = \\begin{bmatrix} 3 & 1 \\\\ 1 & 2 \\end{bmatrix}$$\n",
    "$$X = \\begin{bmatrix} x \\\\ y \\end{bmatrix}$$\n",
    "$$B = \\begin{bmatrix} 9 \\\\ 8 \\end{bmatrix}$$\n"
   ]
  },
  {
   "cell_type": "code",
   "execution_count": 10,
   "metadata": {},
   "outputs": [
    {
     "name": "stdout",
     "output_type": "stream",
     "text": [
      "[2. 3.]\n"
     ]
    }
   ],
   "source": [
    "# Para resolver sistema linear, deve-se utilizar o tipo array no numPy\n",
    "\n",
    "# Matriz A\n",
    "A = np.array([[3,1], \n",
    "              [1,2]])\n",
    "\n",
    "# Matriz B\n",
    "B = np.array([9,8])\n",
    "\n",
    "# Valores de X\n",
    "X = np.linalg.solve(A, B)\n",
    "\n",
    "print(X)"
   ]
  },
  {
   "cell_type": "markdown",
   "metadata": {},
   "source": [
    "## Aplicando numpy na resolução de circuitos\n",
    "\n",
    "![cir1](./figuras/circuito_3_malhas.png)\n",
    "\n",
    "$\\left\\{\n",
    "\\begin{array}{rcrcrc@{\\qquad}l}\n",
    " 10.i_a & - & 8.i_b & + & 0.i_c  = 40 \\\\\n",
    " -8.i_a & - & 20.i_b & - & 6.i_c  = 0 \\\\\n",
    " 0.i_a & - & 6.i_b & + & 10.i_c  = -20 \\\\\n",
    "\\end{array}\n",
    "\\right.$\n"
   ]
  },
  {
   "cell_type": "code",
   "execution_count": 11,
   "metadata": {},
   "outputs": [
    {
     "name": "stdout",
     "output_type": "stream",
     "text": [
      "i_a= 5.6 A\n",
      "i_b= 2.0 A\n",
      "i_c= -0.8 A\n"
     ]
    }
   ],
   "source": [
    "# Matriz A\n",
    "A = np.array([[10,-8,0], \n",
    "              [-8,20,-6],\n",
    "              [0,-6,10]])\n",
    "\n",
    "# Matriz B\n",
    "B = np.array([40,0,-20])\n",
    "\n",
    "# Valores de X\n",
    "I = np.linalg.solve(A, B)\n",
    "\n",
    "print('i_a=',I[0],'A')\n",
    "print('i_b=',I[1],'A')\n",
    "print('i_c=',I[2],'A')"
   ]
  }
 ],
 "metadata": {
  "kernelspec": {
   "display_name": "Python 3 (ipykernel)",
   "language": "python",
   "name": "python3"
  },
  "language_info": {
   "codemirror_mode": {
    "name": "ipython",
    "version": 3
   },
   "file_extension": ".py",
   "mimetype": "text/x-python",
   "name": "python",
   "nbconvert_exporter": "python",
   "pygments_lexer": "ipython3",
   "version": "3.11.3"
  }
 },
 "nbformat": 4,
 "nbformat_minor": 4
}

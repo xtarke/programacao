{
 "cells": [
  {
   "cell_type": "markdown",
   "metadata": {},
   "source": [
    "# Variáveis e operadores\n",
    "---\n",
    "\n",
    "Uma __variável__ é utilizada para guardar dados que serão reutilizados. Para criar uma variável em Python, utilizamos o operador de atribuição __=__. "
   ]
  },
  {
   "cell_type": "code",
   "execution_count": 8,
   "metadata": {},
   "outputs": [
    {
     "name": "stdout",
     "output_type": "stream",
     "text": [
      "5\n",
      "Olá\n"
     ]
    }
   ],
   "source": [
    "x = 5\n",
    "print(x)  # Isto irá imprimir 5\n",
    "\n",
    "mensagem = \"Olá\"\n",
    "print(mensagem) # Isto irá imprimir Olá"
   ]
  },
  {
   "cell_type": "markdown",
   "metadata": {},
   "source": [
    "Existem três tipos básicos de variáveis em Python:\n",
    "\n",
    "- Texto e caracteres: dados vindos do teclado, por exemplo. Conhecido como __string__.\n",
    "- Números inteiros: números __sem__ ponto. Conhecido como __int__ ou __integer__.\n",
    "- Números reais: números __com__ ponto. Conhecido como __float__.\n"
   ]
  },
  {
   "cell_type": "code",
   "execution_count": 12,
   "metadata": {},
   "outputs": [
    {
     "name": "stdout",
     "output_type": "stream",
     "text": [
      "Os dados:\n",
      "5\n",
      "9.69\n",
      "Olá\n",
      "\n",
      "Os tipos\n",
      "<class 'int'>\n",
      "<class 'float'>\n",
      "<class 'str'>\n"
     ]
    }
   ],
   "source": [
    "numero_inteiro = 5      # inteiro, int ou integer\n",
    "numero_virgula  =  9.69 # real ou float\n",
    "mensagem = \"Olá\"        # texto ou string\n",
    "\n",
    "# O print funciona para todos:\n",
    "print('Os dados:')\n",
    "print(numero_inteiro)\n",
    "print(numero_virgula)\n",
    "print(mensagem)\n",
    "\n",
    "print('\\nOs tipos')\n",
    "# Quando ao tipo:\n",
    "print(type(numero_inteiro))\n",
    "print(type(numero_virgula))\n",
    "print(type(mensagem))"
   ]
  },
  {
   "cell_type": "markdown",
   "metadata": {},
   "source": [
    "Para pedir para o usuário um dado, utilizamos a __função input__, que retorna uma __string__. Veja:"
   ]
  },
  {
   "cell_type": "code",
   "execution_count": 14,
   "metadata": {},
   "outputs": [
    {
     "name": "stdout",
     "output_type": "stream",
     "text": [
      "Digite um número por gentileza: 58\n",
      "<class 'str'>\n"
     ]
    }
   ],
   "source": [
    "x = input('Digite um número por gentileza: ')\n",
    "print(type(y))"
   ]
  },
  {
   "cell_type": "markdown",
   "metadata": {},
   "source": [
    "Se tentarmos somar o número que o usuário pediu com 5, há um erro. Veja:"
   ]
  },
  {
   "cell_type": "code",
   "execution_count": 15,
   "metadata": {},
   "outputs": [
    {
     "name": "stdout",
     "output_type": "stream",
     "text": [
      "Digite um número por gentileza: 87\n"
     ]
    },
    {
     "ename": "TypeError",
     "evalue": "can only concatenate str (not \"int\") to str",
     "output_type": "error",
     "traceback": [
      "\u001b[0;31m---------------------------------------------------------------------------\u001b[0m",
      "\u001b[0;31mTypeError\u001b[0m                                 Traceback (most recent call last)",
      "\u001b[0;32m<ipython-input-15-3430d491b4b6>\u001b[0m in \u001b[0;36m<module>\u001b[0;34m()\u001b[0m\n\u001b[1;32m      1\u001b[0m \u001b[0mx\u001b[0m \u001b[0;34m=\u001b[0m \u001b[0minput\u001b[0m\u001b[0;34m(\u001b[0m\u001b[0;34m'Digite um número por gentileza: '\u001b[0m\u001b[0;34m)\u001b[0m\u001b[0;34m\u001b[0m\u001b[0;34m\u001b[0m\u001b[0m\n\u001b[0;32m----> 2\u001b[0;31m \u001b[0my\u001b[0m \u001b[0;34m=\u001b[0m \u001b[0mx\u001b[0m \u001b[0;34m+\u001b[0m \u001b[0;36m5\u001b[0m\u001b[0;34m\u001b[0m\u001b[0;34m\u001b[0m\u001b[0m\n\u001b[0m\u001b[1;32m      3\u001b[0m \u001b[0;34m\u001b[0m\u001b[0m\n\u001b[1;32m      4\u001b[0m \u001b[0mprint\u001b[0m\u001b[0;34m(\u001b[0m\u001b[0my\u001b[0m\u001b[0;34m)\u001b[0m\u001b[0;34m\u001b[0m\u001b[0;34m\u001b[0m\u001b[0m\n",
      "\u001b[0;31mTypeError\u001b[0m: can only concatenate str (not \"int\") to str"
     ]
    }
   ],
   "source": [
    "x = input('Digite um número por gentileza: ')\n",
    "y = x + 5\n",
    "\n",
    "print(y)"
   ]
  },
  {
   "cell_type": "markdown",
   "metadata": {},
   "source": [
    "Computador não gosta que misture tipos, portanto temos que converter. Usa-se as funções str(), int() e float():\n",
    "\n",
    "- int(_dado_): tenta converter _dado_ para o tipo inteiro.\n",
    "- float(_dado_): tenta converter _dado_ para o tipo real.\n",
    "- str(_dado_): tenta converter _dado_ para uma string."
   ]
  },
  {
   "cell_type": "code",
   "execution_count": 16,
   "metadata": {},
   "outputs": [
    {
     "name": "stdout",
     "output_type": "stream",
     "text": [
      "Digite um número por gentileza: 58\n",
      "63\n"
     ]
    }
   ],
   "source": [
    "# Obtém os dados do teclado e os converter para inteiro \n",
    "x = int(input('Digite um número por gentileza: '))  \n",
    "y = x + 5\n",
    "print(y)"
   ]
  },
  {
   "cell_type": "code",
   "execution_count": 17,
   "metadata": {},
   "outputs": [
    {
     "name": "stdout",
     "output_type": "stream",
     "text": [
      "Digite um número por gentileza: 78\n",
      "83.0\n"
     ]
    }
   ],
   "source": [
    "# Obtém os dados do teclado e os converter para float \n",
    "x = float(input('Digite um número por gentileza: '))  \n",
    "y = x + 5\n",
    "print(y)"
   ]
  },
  {
   "cell_type": "code",
   "execution_count": 22,
   "metadata": {},
   "outputs": [
    {
     "name": "stdout",
     "output_type": "stream",
     "text": [
      "Digite um dado qualquer: pl\n",
      "pl5\n"
     ]
    }
   ],
   "source": [
    "# Obtém dados do teclado\n",
    "x = input('Digite um dado qualquer: ')\n",
    "# Converte 5 (inteiro) para string\n",
    "y = x + str(5)\n",
    "print(y)\n",
    "# Nesse caso, o operador + concatena os textos"
   ]
  },
  {
   "cell_type": "markdown",
   "metadata": {},
   "source": [
    "Se os dados são numéricos, você pode realizar as seguintes operações:\n",
    "\n",
    "\n",
    "| Operador  | Descrição                          |\n",
    "|  :---:    |   :---:       |\n",
    "| ``+``     | Adição                             |\n",
    "| ``-``     | Subtração                          |\n",
    "| ``*``     | Multiplicação                      |\n",
    "| ``**``    | Exponenciação (elevado a)          |\n",
    "| ``/``     | Divisão                            |\n",
    "| ``//``    | Divisão inteira  (parte após a vírgula é ignorada) |\n",
    "| ``%``     | Módulo (Resto de uma divisão inteira) |\n",
    "\n",
    "Exemplos:"
   ]
  },
  {
   "cell_type": "code",
   "execution_count": 24,
   "metadata": {},
   "outputs": [
    {
     "ename": "SyntaxError",
     "evalue": "can't assign to operator (<ipython-input-24-55a7f9ce250d>, line 5)",
     "output_type": "error",
     "traceback": [
      "\u001b[0;36m  File \u001b[0;32m\"<ipython-input-24-55a7f9ce250d>\"\u001b[0;36m, line \u001b[0;32m5\u001b[0m\n\u001b[0;31m    3 + 4 = x\u001b[0m\n\u001b[0m             ^\u001b[0m\n\u001b[0;31mSyntaxError\u001b[0m\u001b[0;31m:\u001b[0m can't assign to operator\n"
     ]
    }
   ],
   "source": [
    "# Isso está OK.\n",
    "x = 3 + 4\n",
    "\n",
    "# Isso não é legal, a variável deve ficar à esquerda\n",
    "3 + 4 = x\n",
    "\n",
    "# Isso está OK.\n",
    "x = 5\n",
    "y = 6\n",
    "z = x + 2 * y\n",
    "\n",
    "x = 5\n",
    "y = 6\n",
    "# Isso não é legal, a variável deve ficar à esquerda\n",
    "2 * z = x + y"
   ]
  },
  {
   "cell_type": "markdown",
   "metadata": {},
   "source": [
    "# Exercícios\n",
    "\n",
    "1. Implemente um programa em Pyhon que:\n",
    "\n",
    "    1. Dado um número real qualquer, informe qual é o seu dobro.\n",
    "\n",
    "    2. Dadas as medidas de uma sala em metros (comprimento e largura), informe a sua área em metros quadrados.\n",
    "\n",
    "    3. Dados um salário e um percentual de reajuste, calcule o salário reajustado. Considere que o percentual de reajuste é dado por um número real entre 0 e 1. Por exemplo, se o reajuste for de 15%, o usuário deve digitar o número 0.15.\n",
    "\n",
    "    4. Dados o valor da compra e o percentual de desconto, calcule o valor a ser pago. Considere que o percentual de desconto é um número real entre 0 e 1.\n",
    "\n",
    "\n"
   ]
  },
  {
   "cell_type": "code",
   "execution_count": null,
   "metadata": {},
   "outputs": [],
   "source": [
    "# Faça aqui!"
   ]
  },
  {
   "cell_type": "markdown",
   "metadata": {},
   "source": [
    "2. Implemente um programa que:\n",
    "\n",
    "    1. Leia a cotação do dólar\n",
    "    2. Leia um valor em dólares\n",
    "    3. Converta esse valor para real\n",
    "    4. Mostre o resultado"
   ]
  },
  {
   "cell_type": "code",
   "execution_count": null,
   "metadata": {},
   "outputs": [],
   "source": [
    "# Faça aqui!"
   ]
  },
  {
   "cell_type": "markdown",
   "metadata": {},
   "source": [
    "3. Implemente um programa que:\n",
    "\n",
    "    1. Leia 4 (quatro) números\n",
    "    2. Calcule o quadrado para cada um\n",
    "    3. Some todos\n",
    "    4. Mostre o resultado"
   ]
  },
  {
   "cell_type": "code",
   "execution_count": null,
   "metadata": {},
   "outputs": [],
   "source": [
    "# Faça aqui!"
   ]
  },
  {
   "cell_type": "markdown",
   "metadata": {},
   "source": [
    "4. Construa um programa para pagamento de comissão de vendedores de peças. Considere que a comissão será de 5% do total da venda e que você tem seguintes dados:\n",
    "\n",
    "    - Preço unitário da peça\n",
    "    - Quantidade vendida"
   ]
  },
  {
   "cell_type": "code",
   "execution_count": 25,
   "metadata": {},
   "outputs": [],
   "source": [
    "# Faça aqui!"
   ]
  },
  {
   "cell_type": "markdown",
   "metadata": {},
   "source": [
    "5. Faça um algoritmo para calcular o volume de uma esfera de raio R, em que R é um dado fornecido pelo usuário. O volume de uma esfera é dado por $V=\\frac{4}{3}.\\pi.R^3$."
   ]
  },
  {
   "cell_type": "code",
   "execution_count": 1,
   "metadata": {},
   "outputs": [
    {
     "name": "stdin",
     "output_type": "stream",
     "text": [
      "Digite o raio:  5\n"
     ]
    },
    {
     "name": "stdout",
     "output_type": "stream",
     "text": [
      "O volume da esfera é: 523.3333333333334\n"
     ]
    }
   ],
   "source": [
    "R = 0\n",
    "V = 0\n",
    "\n",
    "# Entrada de dados\n",
    "R = float(input('Digite o raio: '))\n",
    "\n",
    "#Processamento\n",
    "V = 4/3 * 3.14 * R**(3)\n",
    "\n",
    "# Saída de dados\n",
    "# print(V)\n",
    "print('O volume da esfera é: ' + str(V))"
   ]
  },
  {
   "cell_type": "code",
   "execution_count": null,
   "metadata": {},
   "outputs": [],
   "source": []
  }
 ],
 "metadata": {
  "kernelspec": {
   "display_name": "Python 3 (ipykernel)",
   "language": "python",
   "name": "python3"
  },
  "language_info": {
   "codemirror_mode": {
    "name": "ipython",
    "version": 3
   },
   "file_extension": ".py",
   "mimetype": "text/x-python",
   "name": "python",
   "nbconvert_exporter": "python",
   "pygments_lexer": "ipython3",
   "version": "3.13.7"
  }
 },
 "nbformat": 4,
 "nbformat_minor": 2
}

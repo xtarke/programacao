{
 "cells": [
  {
   "cell_type": "markdown",
   "metadata": {},
   "source": [
    "# Estruturas de repetição\n",
    "\n",
    "As Estruturas de repetição permitem repetir um grupo de ações enquanto determinadas condições são satisfeitas. Ela são __denominados laços ou loops.__\n",
    " \n",
    "Instruções primitivas básicas:\n",
    "\n",
    "- enquanto: __while__\n",
    "- para: __for__\n",
    "\n",
    "## While\n",
    "\n",
    "O laço __while__ permite executar um conjunto de insturções __enquanto__ a condição for __verdadeira__.\n",
    "\n",
    "- O teste lógico ocorre no __início do laço__.\n",
    "\n",
    "![fig3](figuras/while-simple.png)\n",
    "\n",
    "- Exemplo abaixo calcula a média aritmética das notas de 10 alunos exibindo-as individualmente."
   ]
  },
  {
   "cell_type": "code",
   "execution_count": null,
   "metadata": {},
   "outputs": [],
   "source": [
    "# Variável de contagem (condição do while)\n",
    "contador = 0\n",
    "\n",
    "# Repetição\n",
    "while (contador < 10):\n",
    "    print('Aluno: ' + str(contador))\n",
    "    \n",
    "    # Entrada de dados\n",
    "    n1 = float(input('Digite nota 1: '))\n",
    "    n2 = float(input('Digite nota 2: '))\n",
    "    n3 = float(input('Digite nota 3: '))\n",
    "    n4 = float(input('Digite nota 4: '))\n",
    "\n",
    "    # Processamento\n",
    "    ma = (n1 + n2 + n3 + n4) / 4\n",
    "    \n",
    "    # Decisão\n",
    "    if ma < 6:\n",
    "        print('Em recuperação: ' + str(ma))\n",
    "    else:\n",
    "        print('Aprovado: ' + str(ma))\n",
    "    \n",
    "    # Contador de alunos\n",
    "    contador = contador + 1\n",
    "\n",
    "# Fim do while (indentado à direita)\n",
    "print('Cálculos concluídos')"
   ]
  },
  {
   "cell_type": "markdown",
   "metadata": {},
   "source": [
    "- Exemplo abaixo calcula a média aritmética das notas dos alunos enquando o usuário quiser. Os dados são exibindo individualmente."
   ]
  },
  {
   "cell_type": "code",
   "execution_count": null,
   "metadata": {},
   "outputs": [],
   "source": [
    "# Continuação (condição do while)\n",
    "continuar = 's'\n",
    "\n",
    "# Repetição\n",
    "while (continuar == 's'):\n",
    "    \n",
    "    # Entrada de dados\n",
    "    n1 = float(input('Digite nota 1: '))\n",
    "    n2 = float(input('Digite nota 2: '))\n",
    "    n3 = float(input('Digite nota 3: '))\n",
    "    n4 = float(input('Digite nota 4: '))\n",
    "\n",
    "    # Processamento\n",
    "    ma = (n1 + n2 + n3 + n4) / 4\n",
    "    \n",
    "    # Decisão\n",
    "    if ma < 6:\n",
    "        print('Em recuperação: ' + str(ma))\n",
    "    else:\n",
    "        print('Aprovado: ' + str(ma))\n",
    "\n",
    "    # Continuar ou não?\n",
    "    continuar = input('Deseja continuar (s/n): ')\n",
    "\n",
    "# Fim do while (indentado à direita)"
   ]
  },
  {
   "cell_type": "markdown",
   "metadata": {},
   "source": [
    "## for\n",
    "\n",
    "Laços __for__ são utilizados para iterar em uma sequência. \n",
    "\n",
    "- Em cada iteração, a variável definida no laço irá incrementar.\n",
    " \n",
    "![fig3](figuras/for-simple.png)\n",
    "\n",
    "- Strings são sequências de caracteres:"
   ]
  },
  {
   "cell_type": "code",
   "execution_count": null,
   "metadata": {},
   "outputs": [],
   "source": [
    "# Para cada letra em \"banana\"\n",
    "for letra in \"banana\":\n",
    "    print(letra)"
   ]
  },
  {
   "cell_type": "markdown",
   "metadata": {},
   "source": [
    "- Pode-se executar qualquer instrução dentro do laço:"
   ]
  },
  {
   "cell_type": "code",
   "execution_count": null,
   "metadata": {},
   "outputs": [],
   "source": [
    "for letra in \"banana\":\n",
    "    if letra == 'a':\n",
    "        print('A')\n",
    "    else:\n",
    "        print(letra)    "
   ]
  },
  {
   "cell_type": "markdown",
   "metadata": {},
   "source": [
    "- A função __range__ permite criar sequências numéricas."
   ]
  },
  {
   "cell_type": "code",
   "execution_count": null,
   "metadata": {},
   "outputs": [],
   "source": [
    "# Para uma sequência de 6 números: [0,6[\n",
    "# Range começa em 0 por padrão.\n",
    "# O incrento da sequência é 1 por padrão.\n",
    "\n",
    "for numero in range(6):\n",
    "    print(numero)"
   ]
  },
  {
   "cell_type": "code",
   "execution_count": null,
   "metadata": {},
   "outputs": [],
   "source": [
    "# Range pode começar em 2 até 10, mas 10 não é incluso\n",
    "for numero in range(2,10):     # Intervalo [2,10[\n",
    "    print(numero)    "
   ]
  },
  {
   "cell_type": "code",
   "execution_count": null,
   "metadata": {},
   "outputs": [],
   "source": [
    "# Para mudar o intervalo de incremento\n",
    "for numero in range(2,30,3):     # Intervalo [2,30[ \n",
    "     print(numero)               # com incremento de 3\n"
   ]
  },
  {
   "cell_type": "markdown",
   "metadata": {},
   "source": [
    "- Exemplo: tabuada"
   ]
  },
  {
   "cell_type": "code",
   "execution_count": null,
   "metadata": {
    "scrolled": true
   },
   "outputs": [],
   "source": [
    "# Pede para o usuário\n",
    "tabuada = int(input('Qual tabuada? '))\n",
    "\n",
    "print('Range(0,11)')\n",
    "for numero in range(0,11):\n",
    "    print(numero * tabuada)\n",
    "    \n",
    "# ou\n",
    "print('Range mais esperto')\n",
    "for numero in range(0, tabuada * 11, tabuada):\n",
    "    print(numero)"
   ]
  },
  {
   "cell_type": "markdown",
   "metadata": {},
   "source": [
    "- Exemplo: funções matemáticas"
   ]
  },
  {
   "cell_type": "code",
   "execution_count": null,
   "metadata": {},
   "outputs": [],
   "source": [
    "# Valores de uma parábola\n",
    "for x in range(-10,11):\n",
    "    y = x**2 -9*x + 2\n",
    "    print(y)"
   ]
  },
  {
   "cell_type": "code",
   "execution_count": null,
   "metadata": {},
   "outputs": [],
   "source": [
    "# Funções mais avançacas requerem bibliotecas\n",
    "# Aqui estamos importando as funções seno (radianos)\n",
    "from math import sin\n",
    "\n",
    "# Valores da função seno\n",
    "for x in range(-10,11):\n",
    "    y = sin(x)\n",
    "    print(y)"
   ]
  },
  {
   "cell_type": "markdown",
   "metadata": {},
   "source": [
    "## Exercícios\n",
    "\n",
    "1. O código abaixo é um jogo de adivinhação. Modifique-o usando __laço while__ para que o jogo não termine enquanto o usuário não acertar."
   ]
  },
  {
   "cell_type": "code",
   "execution_count": null,
   "metadata": {},
   "outputs": [],
   "source": [
    "print('Bem vindo')\n",
    "print('Adivinhe o número entre 0 e 10')\n",
    "\n",
    "chute = 0\n",
    "alvo = 5\n",
    "\n",
    "chute = int(input('Número: '))\n",
    "\n",
    "if (chute < alvo):\n",
    "    print('Muito baixo!')\n",
    "\n",
    "if (chute > alvo):\n",
    "    print('Muito alto!')\n",
    "    \n",
    "if (chute ==  alvo):\n",
    "    print('Você acertou, parabéns')\n"
   ]
  },
  {
   "cell_type": "markdown",
   "metadata": {},
   "source": [
    "2. Peça um número ao usuário e mostre na tela a tabuada desse número (0 a 50).  "
   ]
  },
  {
   "cell_type": "code",
   "execution_count": null,
   "metadata": {},
   "outputs": [],
   "source": []
  },
  {
   "cell_type": "markdown",
   "metadata": {},
   "source": [
    "3. Peça ao usuário um número inteiro, informe se o número é par. Repita o processo até que o usuário digite o número zero.\n"
   ]
  },
  {
   "cell_type": "code",
   "execution_count": null,
   "metadata": {},
   "outputs": [],
   "source": []
  },
  {
   "cell_type": "markdown",
   "metadata": {},
   "source": [
    "4. Some os números que o usuário entrar até que ele digite o número 0."
   ]
  },
  {
   "cell_type": "code",
   "execution_count": null,
   "metadata": {},
   "outputs": [],
   "source": []
  },
  {
   "cell_type": "markdown",
   "metadata": {},
   "source": [
    "5. Peça um número para o usuário, mostre o maior número digitado até o momento. Encerre quando o usuário digitar -1."
   ]
  },
  {
   "cell_type": "code",
   "execution_count": null,
   "metadata": {},
   "outputs": [],
   "source": []
  },
  {
   "cell_type": "markdown",
   "metadata": {},
   "source": [
    "6. Implemente um programa que receba como entrada dois números, representando altura e largura. Imprima um retângulo formado com o caractere asterisco de altura e largura especificadas.   \n",
    "\n",
    "```\n",
    "Digite altura: 3\n",
    "Digite largura: \n",
    "**********\n",
    "**********\n",
    "**********\n",
    "```"
   ]
  },
  {
   "cell_type": "code",
   "execution_count": null,
   "metadata": {},
   "outputs": [],
   "source": []
  },
  {
   "cell_type": "markdown",
   "metadata": {},
   "source": [
    "7. Faça um programa que peça ao usuário um número máximo e imprima na tela a sequência (usando laço):\n",
    "\n",
    "1 3 5 7 9 11 ... NUM\\_MAX ... 11 9 7 5 3 1"
   ]
  },
  {
   "cell_type": "code",
   "execution_count": null,
   "metadata": {},
   "outputs": [],
   "source": []
  },
  {
   "cell_type": "markdown",
   "metadata": {},
   "source": [
    "8. Construa um programa que leia um conjunto de dados contendo altura e sexo ('M' para masculino e 'F' para feminino) de 10 pessoas e, depois, calcule e escreva:\n",
    "\n",
    "    - a maior altura;\n",
    "    - a média de altura das mulheres;\n",
    "    - o número de homens e a diferença porcentual entre eles e as mulheres."
   ]
  },
  {
   "cell_type": "code",
   "execution_count": null,
   "metadata": {},
   "outputs": [],
   "source": [
    "#Variáveis\n",
    "altura = 0.0\n",
    "sexo = 'F'\n",
    "\n",
    "numero_max_pessoas = 3   # é 10\n",
    "contador = 0\n",
    "\n",
    "maior_altura = 0.0\n",
    "\n",
    "acumulador_alturas = 0.0\n",
    "numero_mulheres = 0\n",
    "numero_homens = 0\n",
    "porcentual_homens = 0.0\n",
    "\n",
    "media_alturas = 0\n",
    "\n",
    "while (contador < numero_max_pessoas):   \n",
    "\n",
    "    altura = float(input('Digite a altura: '))\n",
    "    sexo = input('Digite o sexo (M/F): ')\n",
    "    \n",
    "    if (altura > maior_altura):\n",
    "        maior_altura = altura\n",
    "        \n",
    "    if (sexo == 'F'):\n",
    "        acumulador_alturas = acumulador_alturas + altura\n",
    "        numero_mulheres = numero_mulheres + 1\n",
    "    \n",
    "    print(altura)\n",
    "    print(sexo)\n",
    "    \n",
    "    contador = contador + 1\n",
    "\n",
    "\n",
    "if (numero_mulheres != 0):\n",
    "    media_alturas = acumulador_alturas / numero_mulheres\n",
    "\n",
    "numero_homens = numero_max_pessoas - numero_mulheres\n",
    "porcentual_homens = numero_homens / numero_max_pessoas * 100\n",
    "\n",
    "print('A maior altura: ' + str(maior_altura))\n",
    "print('Média de altura das mulheres: ' + str(media_alturas))\n",
    "print('Porcentual homens: ' + str(porcentual_homens))\n",
    "print('Porcentual mulheres: ' + str(100 - porcentual_homens))    "
   ]
  },
  {
   "cell_type": "markdown",
   "metadata": {},
   "source": [
    "9. A conversão de Farenheit para Celsius é obtida pela fórmula C = 5/9(F-32). Escreva um programa que calcule e escreva uma tabela de Farenheit para Celsius em função de Farenheit que varie de 50 a 150 em 1 em 1."
   ]
  },
  {
   "cell_type": "code",
   "execution_count": 15,
   "metadata": {},
   "outputs": [
    {
     "name": "stdout",
     "output_type": "stream",
     "text": [
      "Tabela de conversão:\n",
      "Valor inferior da tabela: 20\n",
      "Valor superior da tabela: 200\n",
      "Farenheit \t Celsius:\n",
      "20\t\t  -6.67\n",
      "21\t\t  -6.11\n",
      "22\t\t  -5.56\n",
      "23\t\t  -5.00\n",
      "24\t\t  -4.44\n",
      "25\t\t  -3.89\n",
      "26\t\t  -3.33\n",
      "27\t\t  -2.78\n",
      "28\t\t  -2.22\n",
      "29\t\t  -1.67\n",
      "30\t\t  -1.11\n",
      "31\t\t  -0.56\n",
      "32\t\t   0.00\n",
      "33\t\t   0.56\n",
      "34\t\t   1.11\n",
      "35\t\t   1.67\n",
      "36\t\t   2.22\n",
      "37\t\t   2.78\n",
      "38\t\t   3.33\n",
      "39\t\t   3.89\n",
      "40\t\t   4.44\n",
      "41\t\t   5.00\n",
      "42\t\t   5.56\n",
      "43\t\t   6.11\n",
      "44\t\t   6.67\n",
      "45\t\t   7.22\n",
      "46\t\t   7.78\n",
      "47\t\t   8.33\n",
      "48\t\t   8.89\n",
      "49\t\t   9.44\n",
      "50\t\t  10.00\n",
      "51\t\t  10.56\n",
      "52\t\t  11.11\n",
      "53\t\t  11.67\n",
      "54\t\t  12.22\n",
      "55\t\t  12.78\n",
      "56\t\t  13.33\n",
      "57\t\t  13.89\n",
      "58\t\t  14.44\n",
      "59\t\t  15.00\n",
      "60\t\t  15.56\n",
      "61\t\t  16.11\n",
      "62\t\t  16.67\n",
      "63\t\t  17.22\n",
      "64\t\t  17.78\n",
      "65\t\t  18.33\n",
      "66\t\t  18.89\n",
      "67\t\t  19.44\n",
      "68\t\t  20.00\n",
      "69\t\t  20.56\n",
      "70\t\t  21.11\n",
      "71\t\t  21.67\n",
      "72\t\t  22.22\n",
      "73\t\t  22.78\n",
      "74\t\t  23.33\n",
      "75\t\t  23.89\n",
      "76\t\t  24.44\n",
      "77\t\t  25.00\n",
      "78\t\t  25.56\n",
      "79\t\t  26.11\n",
      "80\t\t  26.67\n",
      "81\t\t  27.22\n",
      "82\t\t  27.78\n",
      "83\t\t  28.33\n",
      "84\t\t  28.89\n",
      "85\t\t  29.44\n",
      "86\t\t  30.00\n",
      "87\t\t  30.56\n",
      "88\t\t  31.11\n",
      "89\t\t  31.67\n",
      "90\t\t  32.22\n",
      "91\t\t  32.78\n",
      "92\t\t  33.33\n",
      "93\t\t  33.89\n",
      "94\t\t  34.44\n",
      "95\t\t  35.00\n",
      "96\t\t  35.56\n",
      "97\t\t  36.11\n",
      "98\t\t  36.67\n",
      "99\t\t  37.22\n",
      "100\t\t  37.78\n",
      "101\t\t  38.33\n",
      "102\t\t  38.89\n",
      "103\t\t  39.44\n",
      "104\t\t  40.00\n",
      "105\t\t  40.56\n",
      "106\t\t  41.11\n",
      "107\t\t  41.67\n",
      "108\t\t  42.22\n",
      "109\t\t  42.78\n",
      "110\t\t  43.33\n",
      "111\t\t  43.89\n",
      "112\t\t  44.44\n",
      "113\t\t  45.00\n",
      "114\t\t  45.56\n",
      "115\t\t  46.11\n",
      "116\t\t  46.67\n",
      "117\t\t  47.22\n",
      "118\t\t  47.78\n",
      "119\t\t  48.33\n",
      "120\t\t  48.89\n",
      "121\t\t  49.44\n",
      "122\t\t  50.00\n",
      "123\t\t  50.56\n",
      "124\t\t  51.11\n",
      "125\t\t  51.67\n",
      "126\t\t  52.22\n",
      "127\t\t  52.78\n",
      "128\t\t  53.33\n",
      "129\t\t  53.89\n",
      "130\t\t  54.44\n",
      "131\t\t  55.00\n",
      "132\t\t  55.56\n",
      "133\t\t  56.11\n",
      "134\t\t  56.67\n",
      "135\t\t  57.22\n",
      "136\t\t  57.78\n",
      "137\t\t  58.33\n",
      "138\t\t  58.89\n",
      "139\t\t  59.44\n",
      "140\t\t  60.00\n",
      "141\t\t  60.56\n",
      "142\t\t  61.11\n",
      "143\t\t  61.67\n",
      "144\t\t  62.22\n",
      "145\t\t  62.78\n",
      "146\t\t  63.33\n",
      "147\t\t  63.89\n",
      "148\t\t  64.44\n",
      "149\t\t  65.00\n",
      "150\t\t  65.56\n",
      "151\t\t  66.11\n",
      "152\t\t  66.67\n",
      "153\t\t  67.22\n",
      "154\t\t  67.78\n",
      "155\t\t  68.33\n",
      "156\t\t  68.89\n",
      "157\t\t  69.44\n",
      "158\t\t  70.00\n",
      "159\t\t  70.56\n",
      "160\t\t  71.11\n",
      "161\t\t  71.67\n",
      "162\t\t  72.22\n",
      "163\t\t  72.78\n",
      "164\t\t  73.33\n",
      "165\t\t  73.89\n",
      "166\t\t  74.44\n",
      "167\t\t  75.00\n",
      "168\t\t  75.56\n",
      "169\t\t  76.11\n",
      "170\t\t  76.67\n",
      "171\t\t  77.22\n",
      "172\t\t  77.78\n",
      "173\t\t  78.33\n",
      "174\t\t  78.89\n",
      "175\t\t  79.44\n",
      "176\t\t  80.00\n",
      "177\t\t  80.56\n",
      "178\t\t  81.11\n",
      "179\t\t  81.67\n",
      "180\t\t  82.22\n",
      "181\t\t  82.78\n",
      "182\t\t  83.33\n",
      "183\t\t  83.89\n",
      "184\t\t  84.44\n",
      "185\t\t  85.00\n",
      "186\t\t  85.56\n",
      "187\t\t  86.11\n",
      "188\t\t  86.67\n",
      "189\t\t  87.22\n",
      "190\t\t  87.78\n",
      "191\t\t  88.33\n",
      "192\t\t  88.89\n",
      "193\t\t  89.44\n",
      "194\t\t  90.00\n",
      "195\t\t  90.56\n",
      "196\t\t  91.11\n",
      "197\t\t  91.67\n",
      "198\t\t  92.22\n",
      "199\t\t  92.78\n",
      "200\t\t  93.33\n"
     ]
    }
   ],
   "source": [
    "# Variáveis\n",
    "celsius = 0.0\n",
    "\n",
    "print('Tabela de conversão:')\n",
    "valor_inferior = int(input('Valor inferior da tabela: '))\n",
    "valor_superior = int(input('Valor superior da tabela: '))\n",
    "print('Farenheit \\t Celsius:')\n",
    "\n",
    "\n",
    "for farenheit in range(valor_inferior,valor_superior + 1):     \n",
    "    celsius = 5/9*(farenheit - 32)\n",
    "    print(str(farenheit) +  '\\t\\t' + str(format(celsius, '7.2f')))\n"
   ]
  },
  {
   "cell_type": "code",
   "execution_count": 12,
   "metadata": {},
   "outputs": [
    {
     "name": "stdout",
     "output_type": "stream",
     "text": [
      "   5.56\n"
     ]
    }
   ],
   "source": [
    "print(format(5.555557777, '7.2f'))"
   ]
  },
  {
   "cell_type": "code",
   "execution_count": null,
   "metadata": {},
   "outputs": [],
   "source": []
  }
 ],
 "metadata": {
  "kernelspec": {
   "display_name": "Python 3 (ipykernel)",
   "language": "python",
   "name": "python3"
  },
  "language_info": {
   "codemirror_mode": {
    "name": "ipython",
    "version": 3
   },
   "file_extension": ".py",
   "mimetype": "text/x-python",
   "name": "python",
   "nbconvert_exporter": "python",
   "pygments_lexer": "ipython3",
   "version": "3.13.7"
  }
 },
 "nbformat": 4,
 "nbformat_minor": 2
}

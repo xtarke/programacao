{
 "cells": [
  {
   "cell_type": "markdown",
   "metadata": {},
   "source": [
    "# Variáveis e operadores (exercícios resolvidos)\n",
    "---"
   ]
  },
  {
   "cell_type": "markdown",
   "metadata": {},
   "source": [
    "# Exercícios\n",
    "\n",
    "1. Implemente um programa em Pyhon para:\n",
    "\n",
    "    1. Dado um número real qualquer, informe qual é o seu dobro.\n",
    "\n",
    "    2. Dadas as medidas de uma sala em metros (comprimento e largura), informe a sua área em metros quadrados.\n",
    "\n",
    "    3. Dados um salário e um percentual de reajuste, calcule o salário reajustado. Considere que o percentual de reajuste é dado por um número real entre 0 e 1. Por exemplo, se o reajuste for de 15%, o usuário deve digitar o número 0.15.\n",
    "\n",
    "    4. Dados o valor da compra e o percentual de desconto, calcule o valor a ser pago. Considere que o percentual de desconto é um número real entre 0 e 1.\n",
    "\n",
    "\n"
   ]
  },
  {
   "cell_type": "code",
   "execution_count": 6,
   "metadata": {},
   "outputs": [
    {
     "name": "stdout",
     "output_type": "stream",
     "text": [
      "Digite um número real: 9\n",
      "Dobro de 9.0 é 18.0\n"
     ]
    }
   ],
   "source": [
    "# A\n",
    "numero_real = float(input('Digite um número real: '))\n",
    "dobro = numero_real * 2\n",
    "# Veja que se convertermos o float para string podemos concatenar strings\n",
    "print('Dobro de ' + str(numero_real) + ' é ' + str(dobro))"
   ]
  },
  {
   "cell_type": "code",
   "execution_count": 8,
   "metadata": {},
   "outputs": [
    {
     "name": "stdout",
     "output_type": "stream",
     "text": [
      "Digite a largura da sala: 9\n",
      "Digite o comprimento da sala: 7\n",
      "Area é 63.0 m²\n"
     ]
    }
   ],
   "source": [
    "# B\n",
    "largura = float(input('Digite a largura da sala: '))\n",
    "comprimento = float(input('Digite o comprimento da sala: '))\n",
    "area = largura * comprimento\n",
    "print('Area é ' + str(area) + ' m²')"
   ]
  },
  {
   "cell_type": "code",
   "execution_count": 7,
   "metadata": {},
   "outputs": [
    {
     "name": "stdout",
     "output_type": "stream",
     "text": [
      "Digite o salário: 87\n",
      "Digite o perecntual de ajuste: .15\n",
      "Novo salário é: 100.05\n"
     ]
    }
   ],
   "source": [
    "# C\n",
    "salario = float(input('Digite o salário: '))\n",
    "ajuste = float(input('Digite o perecentual de ajuste: '))\n",
    "novo_salario = salario + salario * ajuste\n",
    "print('Novo salário é: ' + str(novo_salario))"
   ]
  },
  {
   "cell_type": "code",
   "execution_count": 10,
   "metadata": {},
   "outputs": [
    {
     "name": "stdout",
     "output_type": "stream",
     "text": [
      "Digite o valor da compra: 100\n",
      "Digite o desconto: .8\n",
      "Pague R$ 20.0\n"
     ]
    }
   ],
   "source": [
    "# D\n",
    "valor_compra = float(input('Digite o valor da compra: '))\n",
    "desconto = float(input('Digite o desconto: '))\n",
    "pagamento = valor_compra - valor_compra * desconto\n",
    "print('Pague R$ ' + str(pagamento))\n"
   ]
  },
  {
   "cell_type": "markdown",
   "metadata": {},
   "source": [
    "2. Implemente um programa para:\n",
    "\n",
    "    1. Leia a cotação do dólar\n",
    "    2. Leia um valor em dólares\n",
    "    3. Converta esse valor para Real\n",
    "    4. Mostre o resultado"
   ]
  },
  {
   "cell_type": "code",
   "execution_count": 11,
   "metadata": {},
   "outputs": [
    {
     "name": "stdout",
     "output_type": "stream",
     "text": [
      "Digite a cotacao do dolar: 4.14\n",
      "Quantos dólares você possui: 250\n",
      "Você tem R$ 1035.0\n"
     ]
    }
   ],
   "source": [
    "cotacao_dolar = float(input('Digite a cotacao do dolar: '))\n",
    "dolares = float(input('Quantos dólares você possui: '))\n",
    "reais = cotacao_dolar * dolares\n",
    "print('Você tem R$ ' + str(reais))"
   ]
  },
  {
   "cell_type": "markdown",
   "metadata": {},
   "source": [
    "3. Implemente um programa para:\n",
    "\n",
    "    1. Leia 4 (quatro) números\n",
    "    2. Calcule o quadrado para cada um\n",
    "    3. Somem todos\n",
    "    4. Mostre o resultado"
   ]
  },
  {
   "cell_type": "code",
   "execution_count": 13,
   "metadata": {},
   "outputs": [
    {
     "name": "stdout",
     "output_type": "stream",
     "text": [
      "Numero 1: 5\n",
      "Numero 2: 3\n",
      "Numero 3: 2\n",
      "Numero 4: 4\n",
      "A soma dos quadrados dos valores é: 54\n"
     ]
    }
   ],
   "source": [
    "n1 = int(input('Numero 1: '))\n",
    "n2 = int(input('Numero 2: '))\n",
    "n3 = int(input('Numero 3: '))\n",
    "n4 = int(input('Numero 4: '))\n",
    "\n",
    "# Veja que podemos reaproveitar as variáveias. Todas estão ao quadrado agora.\n",
    "n1 = n1 * n1\n",
    "n2 = n2 * n2\n",
    "n3 = n3 * n3\n",
    "n4 = n4 * n4\n",
    "\n",
    "soma = n1 + n2 + n3 + n4\n",
    "\n",
    "print('A soma dos quadrados dos valores é: ' + str(soma))"
   ]
  },
  {
   "cell_type": "markdown",
   "metadata": {},
   "source": [
    "4. Construa um programa para pagamento de comissão de vendedores de peças.  Considere que a comissão será de 5% do total da venda e que você tem seguintes dados:\n",
    "\n",
    "    - Preço unitário da peça\n",
    "    - Quantidade vendida"
   ]
  },
  {
   "cell_type": "code",
   "execution_count": 14,
   "metadata": {},
   "outputs": [
    {
     "name": "stdout",
     "output_type": "stream",
     "text": [
      "Preco da peça é: 5\n",
      "Quantidade vendida é: 25\n",
      "A comissão de Juquinha é: 6.25\n"
     ]
    }
   ],
   "source": [
    "preco_peca = int(input('Preco da peça é: '))\n",
    "qtd_peca = int(input('Quantidade vendida é: '))\n",
    "comissao = preco_peca * qtd_peca * 0.05\n",
    "\n",
    "print('A comissão de Juquinha é: ' + str(comissao))"
   ]
  }
 ],
 "metadata": {
  "kernelspec": {
   "display_name": "Python 3 (ipykernel)",
   "language": "python",
   "name": "python3"
  },
  "language_info": {
   "codemirror_mode": {
    "name": "ipython",
    "version": 3
   },
   "file_extension": ".py",
   "mimetype": "text/x-python",
   "name": "python",
   "nbconvert_exporter": "python",
   "pygments_lexer": "ipython3",
   "version": "3.13.7"
  }
 },
 "nbformat": 4,
 "nbformat_minor": 2
}

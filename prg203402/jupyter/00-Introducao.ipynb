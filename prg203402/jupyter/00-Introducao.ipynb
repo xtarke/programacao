{
 "cells": [
  {
   "cell_type": "markdown",
   "id": "d4779a1b-08ee-4bf6-9c12-ff35b369b837",
   "metadata": {},
   "source": [
    "# Meu primeiro programa\n",
    "---\n"
   ]
  },
  {
   "cell_type": "markdown",
   "id": "9c6d905c-8c15-4724-ab6d-c20a1a1c73e4",
   "metadata": {},
   "source": [
    "## Olá Mundo!\n",
    "\n",
    "- Tradicionalmente o primeiro programa escrito é um __``Olá Mundo''__.\n",
    "- Para introduzir você ao mundo em Python:"
   ]
  },
  {
   "cell_type": "code",
   "execution_count": 2,
   "id": "c17e8a70-93dc-49c6-9b86-b9ca76146a7a",
   "metadata": {},
   "outputs": [
    {
     "data": {
      "text/markdown": [
       "Olá mundo, meu nome é Juquinha\n",
       "\n"
      ]
     },
     "metadata": {},
     "output_type": "display_data"
    }
   ],
   "source": [
    "/* Descrição básica do programa */\n",
    "\n",
    "/* Bibliotecas */\n",
    "#include <iostream>\n",
    "\n",
    "/* Namespace padrão */\n",
    "using namespace std;\n",
    "\n",
    "/* Função main: ponto de entrada */\n",
    "int main() {\n",
    "\n",
    "\t// Imprime Olá mundo!!!\n",
    "\tcout << \"Olá mundo, meu nome é Juquinha\\n\";\n",
    "\n",
    "\treturn 0;\n",
    "}"
   ]
  },
  {
   "cell_type": "markdown",
   "id": "aee7477f-9ec7-4fde-b830-83d4f73a7d1d",
   "metadata": {},
   "source": [
    "## Comentários\n",
    "\n",
    "- Comentários são ignorados pela compilador quando um programa é executado.\n",
    "- Eles ajudam na compreensão do código.\n",
    "- Comentários em C++ são ativados por:\n",
    "    - linha: //\n",
    "    - Bloco: /*     */ "
   ]
  },
  {
   "cell_type": "code",
   "execution_count": 4,
   "id": "1e35a8ae-159e-4f10-bd8f-226d6fdb093c",
   "metadata": {},
   "outputs": [
    {
     "data": {
      "text/markdown": [
       "Olá!\n",
       "\n",
       "isso não é comentário\n",
       "\n"
      ]
     },
     "metadata": {},
     "output_type": "display_data"
    }
   ],
   "source": [
    "/* Exemplos de comentários */\n",
    "\n",
    "/* Bibliotecas */\n",
    "#include <iostream>\n",
    "\n",
    "/* Namespace padrão */\n",
    "using namespace std;\n",
    "\n",
    "/* Função main: ponto de entrada */\n",
    "int main() {\n",
    "\n",
    "\t// Isso é um comentário\n",
    "    cout << \"Olá!\\n\";  // A partir daqui também é!\n",
    "\n",
    "    cout << \"isso não é comentário\\n\";\n",
    "    /* Um novo comentário pode ser colocado aqui!\n",
    "     * Em bloco, ou seja, mais de uma linha       */\n",
    "}"
   ]
  },
  {
   "cell_type": "markdown",
   "id": "6691d2b0-936b-4211-b9c8-e7de57b0536f",
   "metadata": {},
   "source": [
    "# O objeto _cout_"
   ]
  },
  {
   "cell_type": "markdown",
   "id": "1cd8c79f-6dca-470c-82b5-3dee6806dbf2",
   "metadata": {},
   "source": [
    "- O objeto __cout__ imprime dados do programa.\n",
    "- Ele está definido na biblioteca __iostream__\n",
    "    - cout: _character out_\n",
    "- O operador << insere dados no objeto \\textcolor{blue}{cout} que imprime no console.\n",
    "    -O console é a __saída padrão__ do programa."
   ]
  },
  {
   "cell_type": "code",
   "execution_count": 5,
   "id": "9f596cbd-0aa8-4b81-afb2-4d4da2587126",
   "metadata": {},
   "outputs": [
    {
     "data": {
      "text/markdown": [
       "Desejo imprimir o \" por algum motivo.\n",
       "\n",
       "Esse arquivo está em C:\\minha_pasta\n",
       "\n"
      ]
     },
     "metadata": {},
     "output_type": "display_data"
    }
   ],
   "source": [
    "/* Exemplo do objeto cout */\n",
    "\n",
    "/* Bibliotecas */\n",
    "#include <iostream>\n",
    "\n",
    "/* Namespace padrão */\n",
    "using namespace std;\n",
    "\n",
    "/* Função main: ponto de entrada */\n",
    "int main() {\n",
    "\n",
    "    // Se eu precisar imprimir o caractere \"\n",
    "    // Devo colocar uma barra na frente\n",
    "    cout << \"Desejo imprimir o \\\" por algum motivo.\\n\";\n",
    "\n",
    "    // E se eu quiser o caractere \\ ?\n",
    "    cout << \"Esse arquivo está em C:\\\\minha_pasta\\n\";\n",
    "}"
   ]
  },
  {
   "cell_type": "markdown",
   "id": "abccec77-dd65-46ae-9abe-d40c68535da4",
   "metadata": {},
   "source": [
    "| Caractere | Descrição     |\n",
    "|  :---:    |   :---:       |\n",
    "| \\\\'       | Aspas simples |\n",
    "| \\\\\"       | Aspas duplas  |\n",
    "| \\t        | Tabulação     |\n",
    "| \\n        | Nova linha    |"
   ]
  },
  {
   "cell_type": "markdown",
   "id": "5a639e70-7f08-441d-a74a-3cfcbc17d255",
   "metadata": {},
   "source": [
    "# Variáveis"
   ]
  },
  {
   "cell_type": "markdown",
   "id": "d0892246-3105-4d21-b89e-35c1e68e8e9f",
   "metadata": {},
   "source": [
    "- Uma __variável__ é utilizada para guardar dados que serão reutilizados.\n",
    "- As variáveis em C++ devem ser criadas de forma explícita contendo seu __tipo__ e __nome__"
   ]
  },
  {
   "cell_type": "code",
   "execution_count": 6,
   "id": "7a654f78-7d8b-4b4b-b522-59881f8ffc3c",
   "metadata": {},
   "outputs": [
    {
     "data": {
      "text/markdown": [
       "5\n",
       "\n",
       "Olá\n",
       "\n"
      ]
     },
     "metadata": {},
     "output_type": "display_data"
    }
   ],
   "source": [
    "/* Bibliotecas */\n",
    "#include <iostream>\n",
    "\n",
    "/* Namespace padrão */\n",
    "using namespace std;\n",
    "\n",
    "/* Função main: ponto de entrada */\n",
    "int main() {\n",
    "    int x = 5;\n",
    "    cout << x << \"\\n\";  //Isto irá imprimir 5\n",
    "\n",
    "    string mensagem = \"Olá\";\n",
    "    cout << mensagem << endl;  //Isto irá imprimir Olá\n",
    "}"
   ]
  },
  {
   "cell_type": "markdown",
   "id": "1dc26470-a3de-4121-8cf7-4d074debc9b3",
   "metadata": {},
   "source": [
    "- Existem três tipos básicos de variáveis em C++:\n",
    "    - __Textos e caracteres__: dados vindos do teclado, por exemplo. Conhecidos como string.\n",
    "    - __Números inteiros__: números sem ponto. Conhecidos como __int__ ou __integer__.\n",
    "    - __Números reais__}: números com ponto. Conhecidos como __float__."
   ]
  },
  {
   "cell_type": "code",
   "execution_count": 8,
   "id": "46043593-76e5-4600-b289-d34d61f0f047",
   "metadata": {},
   "outputs": [],
   "source": [
    "/* Bibliotecas */\n",
    "#include <iostream>\n",
    "\n",
    "/* Namespace padrão */\n",
    "using namespace std;\n",
    "\n",
    "/* Função main: ponto de entrada */\n",
    "int main() {\n",
    "    int numero_inteiro = 5;          //inteiro, int ou integer\n",
    "    float numero_virgula  =  9.69;   //real ou float\n",
    "    string mensagem = \"Olá\";         //texto ou string\n",
    "}"
   ]
  },
  {
   "cell_type": "markdown",
   "id": "6fd2e52f-f2a9-484f-8560-d7bad22f7aa0",
   "metadata": {},
   "source": [
    "# Operadores\n",
    "Se os dados são numéricos, você pode realizar as seguintes operações:\n",
    "\n",
    "\n",
    "| Operador  | Descrição                          |\n",
    "|  :---:    |   :---:       |\n",
    "| ``+``     | Adição                             |\n",
    "| ``-``     | Subtração                          |\n",
    "| ``*``     | Multiplicação                      |\n",
    "| ``/``     | Divisão                            |\n",
    "| ``%``     | Módulo (Resto de uma divisão inteira) |\n",
    "\n",
    "Exemplos:"
   ]
  },
  {
   "cell_type": "code",
   "execution_count": 11,
   "id": "69c12d42-240c-4ee4-8d5b-2e3d561f0292",
   "metadata": {},
   "outputs": [],
   "source": [
    "/* Bibliotecas */\n",
    "#include <iostream>\n",
    "\n",
    "/* Namespace padrão */\n",
    "using namespace std;\n",
    "\n",
    "/* Função main: ponto de entrada */\n",
    "int main() {\n",
    "\tint x,y,z;\n",
    "    float a;\n",
    "\tint b,c;\n",
    "\n",
    "\tx = 3 + 4;   // x vale = 7\n",
    "\n",
    "\tx = 5;\n",
    "\ty = 6;\n",
    "\tz = x - 2 * y;   // z = 5 - 6 * 2 = -7 (cuidado com a\n",
    "\t                 // precedência dos operadores)\n",
    "\tx = 8;\n",
    "\ty = 6;\n",
    "\ta = (float)x / y;  // a = 1.3333333333333333\n",
    "\tb = x / y;         // b = 1\n",
    "\tc = x % y;         //c = 2\n",
    "}"
   ]
  },
  {
   "cell_type": "markdown",
   "id": "fcbac4a4-22b8-4fe8-873d-db78c548d717",
   "metadata": {},
   "source": [
    "| Operador  | Descrição    |\n",
    "|  :---:    |   :---:      |\n",
    "| ``>``     | Maior        |\n",
    "| ``<``     | Menor        |\n",
    "| ``>=``    | Maior igual  |\n",
    "| ``<=``    | Menor igual  |\n",
    "| ``==``    | Igual        |\n",
    "| ``!=``    | Diferente    |"
   ]
  },
  {
   "cell_type": "code",
   "execution_count": 12,
   "id": "368ad6bb-8b3e-4acf-8cb2-24e787b1fffa",
   "metadata": {},
   "outputs": [],
   "source": [
    "/* Bibliotecas */\n",
    "#include <iostream>\n",
    "\n",
    "/* Namespace padrão */\n",
    "using namespace std;\n",
    "\n",
    "/* Função main: ponto de entrada */\n",
    "int main() {\n",
    "int x,y;\n",
    "\tbool a,b,c;\n",
    "\n",
    "\tx = 3;   // x vale = 7\n",
    "\ty = 7;\n",
    "\n",
    "\ta = x > y;\t// x é maior que y?\n",
    "\t\t\t\t// (comparação retornar verdadeiro ou falso)\n",
    "\t// a = Falso\n",
    "\n",
    "\tb = x == y;\t//# x é igual ao y ?\n",
    "\t//# b = Falso\n",
    "\n",
    "\tc = x != y;\t//# x é diferente de y?\n",
    "\t// c = Verdadeiro\n",
    "}"
   ]
  },
  {
   "cell_type": "markdown",
   "id": "76a983b1-0bb3-4a89-95f1-63fd8d233a1a",
   "metadata": {},
   "source": [
    "| Operador  | Descrição     |\n",
    "|  :---:    |   :---:       |\n",
    "| ``||``  | OU            |\n",
    "| ``&&``    | E             |\n",
    "| ``!``     | NÃO           |\n",
    "| ``++``    | Incremento    |\n",
    "| ``--``    | Decremento    |"
   ]
  },
  {
   "cell_type": "markdown",
   "id": "de514cde-f6ad-454d-8525-1317a6cd4cd4",
   "metadata": {},
   "source": [
    "# Exercícios\n",
    "\n",
    "1. Implemente um programa em C++ que:\n",
    "    1. Dado um número real qualquer, informe qual é o seu dobro.\n",
    "    2. Dadas as medidas de uma sala em metros (comprimento e largura), informe a sua área em metros quadrados.\n",
    "    3. Dados um salário e um percentual de reajuste, calcule o salário reajustado. Considere que o percentual de reajuste é dado por um número real entre 0 e 1. Por exemplo, se o reajuste for de 15%, o usuário deve digitar o número 0.15.\n",
    "    4. Dados o valor da compra e o percentual de desconto, calcule o valor a ser pago. Considere que o percentual de desconto é um número real entre 0 e 1.\n",
    "\n",
    "2. Implemente um programa que:\n",
    "    1. Leia a cotação do dólar\n",
    "    2. Leia um valor em dólares\n",
    "    3. Converta esse valor para real\n",
    "    4. Mostre o resultado\n",
    "\n",
    "3. Implemente um programa que:\n",
    "    1. Leia 4 (quatro) números\n",
    "    2. Calcule o quadrado para cada um\n",
    "    3. Some todos\n",
    "    4. Mostre o resultado       \n",
    "\n",
    "4. Construa um programa para pagamento de comissão de vendedores de peças. Considere que a comissão será de 5% do total da venda e que você tem seguintes dados:\n",
    "    - Preço unitário da peça\n",
    "    - Quantidade vendida\n",
    "\n",
    "5. Faça um algoritmo para calcular o volume de uma esfera de raio R, em que R é um dado fornecido pelo usuário. O volume de uma esfera é dado por $V=\\frac{4}{3}.\\pi.R^3$.\n"
   ]
  }
 ],
 "metadata": {
  "kernelspec": {
   "display_name": "C++ 11",
   "language": "c++",
   "name": "cpp11"
  },
  "language_info": {
   "file_extension": ".cpp",
   "mimetype": "text/markdown",
   "name": "C++",
   "version": "1.0.0a9"
  }
 },
 "nbformat": 4,
 "nbformat_minor": 5
}
